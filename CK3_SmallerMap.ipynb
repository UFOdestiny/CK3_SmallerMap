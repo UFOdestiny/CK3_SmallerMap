{
 "cells": [
  {
   "cell_type": "code",
   "execution_count": 1,
   "id": "d677bc51-c6b9-4f27-975d-5a7916eb9fb5",
   "metadata": {},
   "outputs": [],
   "source": [
    "import os\n",
    "import re\n",
    "import pandas as pd\n",
    "import copy"
   ]
  },
  {
   "cell_type": "markdown",
   "id": "fa5caece-5dd3-4ff5-8b72-d74aad71810b",
   "metadata": {},
   "source": [
    "# 0. Path\n",
    "map_data  \n",
    "&ensp;&ensp;--**provinces.png**\n",
    "\n",
    "common  \n",
    "&ensp;&ensp;--bookmarks  \n",
    "&ensp;&ensp;&ensp;&ensp;--bookmarks  \n",
    "&ensp;&ensp;--**landed_titles**  \n",
    "&ensp;&ensp;--**religion**  \n",
    "&ensp;&ensp;&ensp;&ensp; --**holy_sites**  \n",
    "&ensp;&ensp;&ensp;&ensp; --**religions**  \n",
    "&ensp;&ensp;--scripted_effects  \n",
    "\n",
    "history  \n",
    "&ensp;&ensp;--characters  \n",
    "&ensp;&ensp;--titles  \n"
   ]
  },
  {
   "cell_type": "code",
   "execution_count": null,
   "id": "3b691ca8-8538-4bde-bc45-29a2fe087dcd",
   "metadata": {},
   "outputs": [],
   "source": [
    "game_path=\"F:/SteamLibrary/steamapps/common/Crusader Kings III/game/\"\n",
    "mod_path=\"C:/Users/XXXXX/Documents/Paradox Interactive/Crusader Kings III/mod/Smaller/\""
   ]
  },
  {
   "cell_type": "code",
   "execution_count": 3,
   "id": "108feb96-b5c4-4505-9708-8373c67a7688",
   "metadata": {},
   "outputs": [],
   "source": [
    "g_his=game_path+\"history/\"\n",
    "g_cha=g_his+\"characters/\"\n",
    "g_ti=g_his+\"titles/\"\n",
    "g_landtitles= game_path+\"common/landed_titles/00_landed_titles.txt\"\n",
    "g_holy_cites=game_path+\"common/religion/holy_sites/00_holy_sites.txt\"\n",
    "g_religions=game_path+\"common/religion/religions/\"\n",
    "g_religions_files=sorted([g_religions+i for i in os.listdir(g_religions) if i[-3:]==\"txt\"])\n",
    "g_bookmark=game_path+\"common/bookmarks/bookmarks/00_bookmarks.txt\"\n",
    "\n",
    "m_his=mod_path+\"history/\"\n",
    "m_cha=m_his+\"characters/\"\n",
    "m_ti=m_his+\"titles/\"\n",
    "m_landtitles= mod_path+\"common/landed_titles/00_landed_titles.txt\"\n",
    "m_holy_cites=mod_path+\"common/religion/holy_sites/00_holy_sites.txt\"\n",
    "m_religions=mod_path+\"common/religion/religions/\"\n",
    "m_religions_files=sorted([m_religions+i for i in os.listdir(g_religions) if i[-3:]==\"txt\"])\n",
    "m_bookmark=mod_path+\"common/bookmarks/bookmarks/00_bookmarks.txt\""
   ]
  },
  {
   "cell_type": "markdown",
   "id": "b6d3459c-8ade-44d7-a1c9-c17aa34fb382",
   "metadata": {},
   "source": [
    "# 1. Parse"
   ]
  },
  {
   "cell_type": "code",
   "execution_count": 4,
   "id": "3809bd50-65ad-487d-a866-38575006b789",
   "metadata": {},
   "outputs": [],
   "source": [
    "def tokenize(file):\n",
    "    with open(file, \"r\", encoding='utf-8-sig') as a:\n",
    "        lines=[]\n",
    "        lines_=a.readlines()\n",
    "        for i in lines_:\n",
    "            if i and i[0] not in [\"@\",\"#\"]:\n",
    "                s=re.sub(r\"#.*\", \"\", i).strip()\n",
    "                if s:\n",
    "                    s=s.replace(\"hsv{\",\"{\")\n",
    "                    s_lst=re.split(r'(=|\\{|\\})', s)\n",
    "                    for j in s_lst:\n",
    "                        if j.strip():\n",
    "                            lines.append(j.strip())\n",
    "    \n",
    "    result = []\n",
    "    i = 0\n",
    "    while i < len(lines):\n",
    "        if lines[i] == '=' and i + 1 < len(lines) and lines[i+1] == '{':\n",
    "            result.append('={')\n",
    "            i += 2  # 跳过 '=' 和 '{'\n",
    "        else:\n",
    "            result.append(lines[i])\n",
    "            i += 1\n",
    "    \n",
    "    return result\n",
    "\n",
    "def token_to_lst(token_lst):\n",
    "    t_lst=[]\n",
    "    eqal_flag=False\n",
    "    for t in token_lst:\n",
    "        if t==\"=\":\n",
    "            eqal_flag=True\n",
    "        elif t==\"={\":\n",
    "            t_lst.append(t)\n",
    "        elif t==\"}\":\n",
    "            temp_lst=[]\n",
    "            while (t_:=t_lst.pop())!=\"={\":\n",
    "                temp_lst.append(t_)\n",
    "    \n",
    "            t_lst.append({t_lst.pop():temp_lst})\n",
    "            temp_lst=[]\n",
    "        else:\n",
    "            if eqal_flag==False:\n",
    "                t_lst.append(t)\n",
    "            else:\n",
    "                t_lst.append({t_lst.pop():t})\n",
    "                eqal_flag=False\n",
    "    return t_lst\n",
    "\n",
    "def merge_token_list(data):\n",
    "    if isinstance(data, list):\n",
    "        if len(data)==1 and isinstance(data[0], str):\n",
    "            return data[0]\n",
    "            \n",
    "        elif all(isinstance(item, dict) for item in data):\n",
    "            merged = {}\n",
    "            for d in data:\n",
    "                for k, v in d.items():\n",
    "                    merged[k] = merge_token_list(v)\n",
    "            return merged\n",
    "        else:\n",
    "            # 是一个普通列表（比如 ['a', 'b', 'c']），直接返回，或递归处理\n",
    "            return [merge_token_list(item) for item in data]\n",
    "    elif isinstance(data, dict):\n",
    "        # 如果是字典，则递归处理每一个 value\n",
    "        return {k: merge_token_list(v) for k, v in data.items()}\n",
    "    else:\n",
    "        # 原子值，直接返回\n",
    "        return data\n",
    "\n",
    "def file_to_dict(path):\n",
    "    tokens=tokenize(path)\n",
    "    token_list=token_to_lst(tokens)\n",
    "    dic=merge_token_list(token_list)\n",
    "    return dic\n",
    "\n",
    "def keep_prefix(dic, prefix):\n",
    "    lst=[]\n",
    "    for i,j in dic.items():\n",
    "        if i[:2] not in prefix:\n",
    "            lst.append(i)\n",
    "        else:\n",
    "            if type(j)==dict:\n",
    "                j = keep_prefix(j,prefix)\n",
    "    for i in lst:\n",
    "        del dic[i]\n",
    "    return dic"
   ]
  },
  {
   "cell_type": "code",
   "execution_count": 39,
   "id": "7a325317-568f-454f-81f4-476ba8c3cfd4",
   "metadata": {},
   "outputs": [],
   "source": [
    "title_delete=[\n",
    "\"e_ajuraan\",\n",
    "\"e_bengal\",\n",
    "\"e_deccan\",\n",
    "\"e_guinea\",\n",
    "\"e_mali\",\n",
    "\"e_kanem_bornu\",\n",
    "\"e_tibet\",\n",
    "\"e_rajastan\",\n",
    "\"e_abyssinia\",\n",
    "\n",
    "\"k_anbiya\",\n",
    "\"k_himalaya\",\n",
    "\"k_khotan\",\n",
    "\"k_permia\",\n",
    "\"k_sahara\",\n",
    "\"k_yugra\",\n",
    "]"
   ]
  },
  {
   "cell_type": "code",
   "execution_count": 40,
   "id": "e47d1977-9466-424a-8c42-48c874f2c8a3",
   "metadata": {},
   "outputs": [],
   "source": [
    "dic=file_to_dict(g_landtitles)\n",
    "dic=keep_prefix(dic, [\"e_\",\"k_\",\"d_\",\"c_\"])"
   ]
  },
  {
   "cell_type": "code",
   "execution_count": 141,
   "id": "b5a0a1b3-41dc-4730-b1a4-fece997f3f0e",
   "metadata": {},
   "outputs": [],
   "source": [
    "rows = []\n",
    "for i,j in dic.items():\n",
    "    if i[:2]==\"e_\":\n",
    "        for kingdom, duchies in j.items():\n",
    "            for duchy, counties in duchies.items():\n",
    "                for county in counties:\n",
    "                    rows.append((i,kingdom, duchy, county))\n",
    "df = pd.DataFrame(rows, columns=[\"empire\", \"kingdom\", \"duchy\", \"county\"])\n",
    "not_exist=df[df.isin(title_delete).any(axis=1)]\n",
    "not_exist_all=not_exist.stack().unique().tolist()\n",
    "not_exist_county_list=not_exist.county.unique().tolist()"
   ]
  },
  {
   "cell_type": "markdown",
   "id": "9bb1ee0f-32dd-4dcd-a5e4-c5e12bd2464c",
   "metadata": {},
   "source": [
    "# 2. land_titles"
   ]
  },
  {
   "cell_type": "code",
   "execution_count": 119,
   "id": "aa6efb40-e91d-4073-9635-dae66eb90224",
   "metadata": {},
   "outputs": [],
   "source": [
    "replace_title={\n",
    "    \"capital = c_sagya\":\"capital = c_riqan\",\n",
    "    \"capital = c_shazhou\":\"capital = c_bost\",\n",
    "}"
   ]
  },
  {
   "cell_type": "code",
   "execution_count": 128,
   "id": "5750701b-af5e-42aa-8925-3ae86cd5a74a",
   "metadata": {},
   "outputs": [],
   "source": [
    "def delete_key(from_path, lst, rpls,to_path=None):\n",
    "    with open(from_path, \"r\", encoding=\"utf-8-sig\") as f:\n",
    "        s=f.read()\n",
    "    \n",
    "    for key in lst:\n",
    "        if len(s)==0:\n",
    "            break\n",
    "        index=s.find(key)\n",
    "        if index!=-1:\n",
    "            l,r,offset=0,0,0\n",
    "            while l==0 or l!=r:\n",
    "                offset+=1\n",
    "                if s[index+offset]==\"{\":\n",
    "                    l+=1\n",
    "                elif s[index+offset]==\"}\":\n",
    "                    r+=1\n",
    "            s=s[:index]+s[index+offset+1:]\n",
    "\n",
    "    if rpls:\n",
    "        for i,j in rpls.items():\n",
    "            s=s.replace(i,j)\n",
    "    \n",
    "    if not to_path:\n",
    "        return s\n",
    "    \n",
    "    with open(to_path, \"w\", encoding=\"utf-8-sig\") as f:\n",
    "        f.write(s)\n"
   ]
  },
  {
   "cell_type": "code",
   "execution_count": 44,
   "id": "1ee6c80b-4d16-4000-b539-d81bbc41f8aa",
   "metadata": {},
   "outputs": [],
   "source": [
    "delete_key(g_landtitles,title_delete,replace_title, m_landtitles)"
   ]
  },
  {
   "cell_type": "markdown",
   "id": "903e662b-117c-42ff-bebe-988ae560998b",
   "metadata": {},
   "source": [
    "# 3. holy_sites"
   ]
  },
  {
   "cell_type": "code",
   "execution_count": 45,
   "id": "95ea3c1f-c387-4336-980e-5252841c86a9",
   "metadata": {},
   "outputs": [],
   "source": [
    "dic_hc=file_to_dict(g_holy_cites)\n",
    "not_exist_holy_cites=[i for i,j in dic_hc.items() if j[\"county\"] in not_exist_county_list]"
   ]
  },
  {
   "cell_type": "code",
   "execution_count": 46,
   "id": "228acf45-887a-46ee-9a8c-a7c883835338",
   "metadata": {},
   "outputs": [],
   "source": [
    "delete_key(g_holy_cites,[i+\" =\" for i in not_exist_holy_cites],None, m_holy_cites) #.replace(\".txt\",\"_test.txt\")"
   ]
  },
  {
   "cell_type": "code",
   "execution_count": 47,
   "id": "12e22882-d896-4ce8-bfb1-8b335d286710",
   "metadata": {},
   "outputs": [],
   "source": [
    "new_hc=file_to_dict(m_holy_cites)"
   ]
  },
  {
   "cell_type": "code",
   "execution_count": 150,
   "id": "ce4653b3-e1c3-4150-9143-c25fe4bdce73",
   "metadata": {},
   "outputs": [],
   "source": [
    "rlps={\n",
    "    \"bono\":\"aswan\",\n",
    "    \"kusinagara\":\"nok_kundi\",\n",
    "    \"itanagar\":\"nok_kundi\",\n",
    "    \"varanasi\":\"nok_kundi\",\n",
    "    \"palitana\":\"nok_kundi\",\n",
    "    \"kathmandu\":\"nok_kundi\",\n",
    "    \"ngawa\":\"kara_khorum\",\n",
    "    \"lhasa\":\"kara_khorum\",\n",
    "    \"danakil\":\"carthage\",\n",
    "    \"awkar\":\"aswan\",\n",
    "    \"daura\":\"aswan\",\n",
    "    \"ife\":\"tinmallal\",\n",
    "    \"kisi\":\"tinmallal\",\n",
    "}\n",
    "\n",
    "def comment_sites(from_lst,to_lst,not_exist_holy_cites):\n",
    "    sites=[f\"holy_site = {i}\" for i in not_exist_holy_cites]\n",
    "    for i,j in zip(from_lst,to_lst):\n",
    "        with open(i, \"r\", encoding=\"utf-8-sig\") as f:\n",
    "            s=f.read()\n",
    "            copy_s=copy.copy(s)\n",
    "            for m,n in rlps.items():\n",
    "                s=s.replace(f\"holy_site = {m}\",f\"holy_site = {n}\")\n",
    "            \n",
    "            for k in sites:\n",
    "                s=s.replace(k,\"#\"+k)\n",
    "        if s!=copy_s:\n",
    "            with open(j, \"w\", encoding=\"utf-8-sig\") as f:\n",
    "                f.write(s)"
   ]
  },
  {
   "cell_type": "code",
   "execution_count": 151,
   "id": "637c9f54-0fdf-423c-a069-66e780462c13",
   "metadata": {},
   "outputs": [],
   "source": [
    "comment_sites(g_religions_files,m_religions_files,not_exist_holy_cites)"
   ]
  },
  {
   "cell_type": "markdown",
   "id": "d2cbd15f-2b3a-48e6-8a06-1bb1d52d8084",
   "metadata": {},
   "source": [
    "# 4. bookmarks"
   ]
  },
  {
   "cell_type": "code",
   "execution_count": 130,
   "id": "439df8e3-79e3-4c4d-9c5f-e0563f691661",
   "metadata": {},
   "outputs": [],
   "source": [
    "dic_bkmk=file_to_dict(g_bookmark)"
   ]
  },
  {
   "cell_type": "code",
   "execution_count": null,
   "id": "9ab8a10d-8a06-4f21-a06d-72cb2a3a680a",
   "metadata": {},
   "outputs": [],
   "source": [
    "def remove_character(dic):\n",
    "    lst=[]\n",
    "    for i,j in dic.items():\n",
    "        if i==\"character\":\n",
    "            if i[\"title\"] in not_exist_all:\n",
    "                lst.append(i)\n",
    "            else:\n",
    "                \n",
    "        else:\n",
    "            if type(j)==dict:\n",
    "                lst+=remove_character(dic)\n",
    "    \n",
    "\n",
    "    return lst"
   ]
  },
  {
   "cell_type": "code",
   "execution_count": 144,
   "id": "941d60d9-d0d7-469a-a744-8eba4098744d",
   "metadata": {},
   "outputs": [
    {
     "data": {
      "text/plain": [
       "{'character': {'history_id': '6880',\n",
       "  'religion': 'norse_pagan',\n",
       "  'culture': 'norse',\n",
       "  'birth': '860.1.1',\n",
       "  'type': 'male',\n",
       "  'dynasty': '1059',\n",
       "  'relation': '\"BOOKMARK_RELATION_SON\"',\n",
       "  'name': '\"bookmark_adventurers_jarl_haesteinn_alt_ragnarr\"'},\n",
       " 'animation': 'personality_rational',\n",
       " 'position': '320 400',\n",
       " 'history_id': '6878',\n",
       " 'difficulty': '\"BOOKMARK_CHARACTER_DIFFICULTY_EASY\"',\n",
       " 'religion': 'norse_pagan',\n",
       " 'culture': 'norse',\n",
       " 'government': 'feudal_government',\n",
       " 'title': 'c_montaigu',\n",
       " 'birth': '815.1.1',\n",
       " 'type': 'male',\n",
       " 'dynasty_splendor_level': '1',\n",
       " 'dynasty': '1059',\n",
       " 'name': '\"bookmark_adventurers_jarl_haesteinn\"'}"
      ]
     },
     "execution_count": 144,
     "metadata": {},
     "output_type": "execute_result"
    }
   ],
   "source": [
    "dic_bkmk[\"bm_867_adventurers\"][\"character\"]"
   ]
  },
  {
   "cell_type": "code",
   "execution_count": null,
   "id": "12e10698-a227-43e1-a3d2-71cd5e012013",
   "metadata": {},
   "outputs": [],
   "source": []
  },
  {
   "cell_type": "code",
   "execution_count": null,
   "id": "8a7198aa-60bd-4e7d-ba8b-af12438102ad",
   "metadata": {},
   "outputs": [],
   "source": []
  }
 ],
 "metadata": {
  "kernelspec": {
   "display_name": "Python 3 (ipykernel)",
   "language": "python",
   "name": "python3"
  },
  "language_info": {
   "codemirror_mode": {
    "name": "ipython",
    "version": 3
   },
   "file_extension": ".py",
   "mimetype": "text/x-python",
   "name": "python",
   "nbconvert_exporter": "python",
   "pygments_lexer": "ipython3",
   "version": "3.10.9"
  }
 },
 "nbformat": 4,
 "nbformat_minor": 5
}
